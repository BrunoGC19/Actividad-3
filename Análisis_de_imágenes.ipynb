{
  "nbformat": 4,
  "nbformat_minor": 0,
  "metadata": {
    "colab": {
      "name": "Análisis de imágenes",
      "provenance": [],
      "collapsed_sections": [],
      "authorship_tag": "ABX9TyOwAjJqU8qQVbWb+fDfqR+g",
      "include_colab_link": true
    },
    "kernelspec": {
      "name": "python3",
      "display_name": "Python 3"
    }
  },
  "cells": [
    {
      "cell_type": "markdown",
      "metadata": {
        "id": "view-in-github",
        "colab_type": "text"
      },
      "source": [
        "<a href=\"https://colab.research.google.com/github/BrunoGC19/Actividad-3/blob/main/An%C3%A1lisis_de_im%C3%A1genes.ipynb\" target=\"_parent\"><img src=\"https://colab.research.google.com/assets/colab-badge.svg\" alt=\"Open In Colab\"/></a>"
      ]
    },
    {
      "cell_type": "markdown",
      "metadata": {
        "id": "aWksZrwjYfOz"
      },
      "source": [
        "Instalacion del paquete de Microsoft para consumir los servicios cognitivos de visión "
      ]
    },
    {
      "cell_type": "code",
      "metadata": {
        "colab": {
          "base_uri": "https://localhost:8080/"
        },
        "id": "10kECgH-SXgU",
        "outputId": "7173acbc-ce3b-4410-b7de-4569fed070dd"
      },
      "source": [
        "!pip install --upgrade azure-cognitiveservices-vision-computervision"
      ],
      "execution_count": null,
      "outputs": [
        {
          "output_type": "stream",
          "text": [
            "Requirement already up-to-date: azure-cognitiveservices-vision-computervision in /usr/local/lib/python3.7/dist-packages (0.7.0)\n",
            "Requirement already satisfied, skipping upgrade: azure-common~=1.1 in /usr/local/lib/python3.7/dist-packages (from azure-cognitiveservices-vision-computervision) (1.1.26)\n",
            "Requirement already satisfied, skipping upgrade: msrest>=0.5.0 in /usr/local/lib/python3.7/dist-packages (from azure-cognitiveservices-vision-computervision) (0.6.21)\n",
            "Requirement already satisfied, skipping upgrade: requests-oauthlib>=0.5.0 in /usr/local/lib/python3.7/dist-packages (from msrest>=0.5.0->azure-cognitiveservices-vision-computervision) (1.3.0)\n",
            "Requirement already satisfied, skipping upgrade: certifi>=2017.4.17 in /usr/local/lib/python3.7/dist-packages (from msrest>=0.5.0->azure-cognitiveservices-vision-computervision) (2020.12.5)\n",
            "Requirement already satisfied, skipping upgrade: requests~=2.16 in /usr/local/lib/python3.7/dist-packages (from msrest>=0.5.0->azure-cognitiveservices-vision-computervision) (2.23.0)\n",
            "Requirement already satisfied, skipping upgrade: isodate>=0.6.0 in /usr/local/lib/python3.7/dist-packages (from msrest>=0.5.0->azure-cognitiveservices-vision-computervision) (0.6.0)\n",
            "Requirement already satisfied, skipping upgrade: oauthlib>=3.0.0 in /usr/local/lib/python3.7/dist-packages (from requests-oauthlib>=0.5.0->msrest>=0.5.0->azure-cognitiveservices-vision-computervision) (3.1.0)\n",
            "Requirement already satisfied, skipping upgrade: chardet<4,>=3.0.2 in /usr/local/lib/python3.7/dist-packages (from requests~=2.16->msrest>=0.5.0->azure-cognitiveservices-vision-computervision) (3.0.4)\n",
            "Requirement already satisfied, skipping upgrade: idna<3,>=2.5 in /usr/local/lib/python3.7/dist-packages (from requests~=2.16->msrest>=0.5.0->azure-cognitiveservices-vision-computervision) (2.10)\n",
            "Requirement already satisfied, skipping upgrade: urllib3!=1.25.0,!=1.25.1,<1.26,>=1.21.1 in /usr/local/lib/python3.7/dist-packages (from requests~=2.16->msrest>=0.5.0->azure-cognitiveservices-vision-computervision) (1.24.3)\n",
            "Requirement already satisfied, skipping upgrade: six in /usr/local/lib/python3.7/dist-packages (from isodate>=0.6.0->msrest>=0.5.0->azure-cognitiveservices-vision-computervision) (1.15.0)\n"
          ],
          "name": "stdout"
        }
      ]
    },
    {
      "cell_type": "markdown",
      "metadata": {
        "id": "tG7Gkg9DZE3e"
      },
      "source": [
        "Importamos las bibliotecas de funciones que vamos a utilizar "
      ]
    },
    {
      "cell_type": "code",
      "metadata": {
        "id": "nLjai9sOZQfs"
      },
      "source": [
        "#Funcionalidades para conectarnos con nuestro recurso de cognitive services \r\n",
        "# y validar nuestro acceso \r\n",
        "\r\n",
        "from azure.cognitiveservices.vision.computervision import ComputerVisionClient\r\n",
        "from azure.cognitiveservices.vision.computervision.models import OperationStatusCodes\r\n",
        "from azure.cognitiveservices.vision.computervision.models import VisualFeatureTypes\r\n",
        "from msrest.authentication import CognitiveServicesCredentials\r\n",
        "\r\n",
        "#Paqueteria de Python para acceder a recursos de la máquina \r\n",
        "from array import array\r\n",
        "import os\r\n",
        "from PIL import Image #Este es para tabajar con imagenes \r\n",
        "import sys\r\n",
        "import time"
      ],
      "execution_count": null,
      "outputs": []
    },
    {
      "cell_type": "markdown",
      "metadata": {
        "id": "cFNe0PywbFuA"
      },
      "source": [
        "Lo primero es que necesitamos autenticar nuestro acceso para consumir el recurso "
      ]
    },
    {
      "cell_type": "code",
      "metadata": {
        "id": "SuIotsSUbe4N"
      },
      "source": [
        "endpoint = \"https://deteccionimagen-reto.cognitiveservices.azure.com/\"\r\n",
        "subscription_key = \"b85687d43dbd4b7688123dc3910a411e\"\r\n",
        "\r\n",
        "computervision_client = ComputerVisionClient(endpoint, CognitiveServicesCredentials(subscription_key))"
      ],
      "execution_count": null,
      "outputs": []
    },
    {
      "cell_type": "markdown",
      "metadata": {
        "id": "8KqNShwFezLP"
      },
      "source": [
        "Procedemos a consumir el servicio para analizar una imagen "
      ]
    },
    {
      "cell_type": "code",
      "metadata": {
        "id": "_XNkPEpHfCrO"
      },
      "source": [
        "#Ponemos un URL de la imagen que vamos a analizar \r\n",
        "\r\n",
        "remote_image_url = \"https://canalhistoria.es/wp-content/uploads/2016/04/071103-1.jpg\""
      ],
      "execution_count": null,
      "outputs": []
    },
    {
      "cell_type": "code",
      "metadata": {
        "colab": {
          "base_uri": "https://localhost:8080/"
        },
        "id": "LaJIl7_yi_2Q",
        "outputId": "0530de4f-e4ae-4126-f380-8ec09c09acdc"
      },
      "source": [
        "#Descripcion de los contenidos de una imagen\r\n",
        "\r\n",
        "print(\"===== Vamos a describir el contenido de una imagen, ya se armo rey=====\")\r\n",
        "\r\n",
        "# Consumimos el servicio de Computer Service \r\n",
        "description_results = computervision_client.describe_image(remote_image_url )"
      ],
      "execution_count": null,
      "outputs": [
        {
          "output_type": "stream",
          "text": [
            "===== Vamos a describir el contenido de una imagen, ya se armo rey=====\n"
          ],
          "name": "stdout"
        }
      ]
    },
    {
      "cell_type": "code",
      "metadata": {
        "colab": {
          "base_uri": "https://localhost:8080/"
        },
        "id": "iC5byAYykQnx",
        "outputId": "a11dfc18-a179-4528-88e8-df936bc65b49"
      },
      "source": [
        "# Get the captions (descriptions) from the response, with confidence level\r\n",
        "print(\"Descripcion de la imagen: \")\r\n",
        "if (len(description_results.captions) == 0):\r\n",
        "    print(\"No description detected.\")\r\n",
        "else:\r\n",
        "    for caption in description_results.captions:\r\n",
        "        print(\"'{}' with confidence {:.2f}%\".format(caption.text, caption.confidence * 100))"
      ],
      "execution_count": null,
      "outputs": [
        {
          "output_type": "stream",
          "text": [
            "Descripcion de la imagen: \n",
            "'a group of people wearing red and blue uniforms with their arms raised' with confidence 38.06%\n"
          ],
          "name": "stdout"
        }
      ]
    },
    {
      "cell_type": "code",
      "metadata": {
        "colab": {
          "base_uri": "https://localhost:8080/"
        },
        "id": "-DwAsJF0sreb",
        "outputId": "5d13e119-4086-4bc4-c55a-a442559d964e"
      },
      "source": [
        "from pprint import pprint\r\n",
        "\r\n",
        "pprint(description_results.as_dict())"
      ],
      "execution_count": null,
      "outputs": [
        {
          "output_type": "stream",
          "text": [
            "{'captions': [{'confidence': 0.38062193989753723,\n",
            "               'text': 'a group of people wearing red and blue uniforms with '\n",
            "                       'their arms raised'}],\n",
            " 'metadata': {'format': 'Jpeg', 'height': 237, 'width': 404},\n",
            " 'request_id': '19b46a7a-f394-4ddc-810c-c3750b82c89e',\n",
            " 'tags': ['person', 'sport', 'dancer', 'crowd']}\n"
          ],
          "name": "stdout"
        }
      ]
    },
    {
      "cell_type": "code",
      "metadata": {
        "colab": {
          "base_uri": "https://localhost:8080/"
        },
        "id": "Nl8P6d_TxiF1",
        "outputId": "cd36cb7a-35df-410b-94e1-f27dfad5963b"
      },
      "source": [
        "print(\"Descripcion de la imagen: \")\r\n",
        "if len(description_results.as_dict()['captions']) > 0:\r\n",
        "  print(\"Si se encontro algo\")\r\n",
        "  for elemento in description_results.as_dict()['captions']:\r\n",
        "    print(elemento[\"text\"])\r\n",
        "else:\r\n",
        "  print(\"No se encontro nada\")\r\n"
      ],
      "execution_count": null,
      "outputs": [
        {
          "output_type": "stream",
          "text": [
            "Descripcion de la imagen: \n",
            "Si se encontro algo\n",
            "a group of people wearing red and blue uniforms with their arms raised\n"
          ],
          "name": "stdout"
        }
      ]
    }
  ]
}